{
 "cells": [
  {
   "cell_type": "markdown",
   "metadata": {
    "tags": []
   },
   "source": [
    "# Lab | Data Structures "
   ]
  },
  {
   "cell_type": "markdown",
   "metadata": {},
   "source": [
    "## Exercise: Managing Customer Orders\n",
    "\n",
    "As part of a business venture, you are starting an online store that sells various products. To ensure smooth operations, you need to develop a program that manages customer orders and inventory.\n",
    "\n",
    "Follow the steps below to complete the exercise:\n",
    "\n",
    "1. Define a list called `products` that contains the following items: \"t-shirt\", \"mug\", \"hat\", \"book\", \"keychain\".\n",
    "\n",
    "2. Create an empty dictionary called `inventory`.\n",
    "\n",
    "3. Ask the user to input the quantity of each product available in the inventory. Use the product names from the `products` list as keys in the `inventory` dictionary and assign the respective quantities as values.\n",
    "\n",
    "4. Create an empty set called `customer_orders`.\n",
    "\n",
    "5. Ask the user to input the name of three products that a customer wants to order (from those in the products list, meaning three products out of \"t-shirt\", \"mug\", \"hat\", \"book\" or \"keychain\". Add each product name to the `customer_orders` set.\n",
    "\n",
    "6. Print the products in the `customer_orders` set.\n",
    "\n",
    "7. Calculate the following order statistics:\n",
    "   - Total Products Ordered: The total number of products in the `customer_orders` set.\n",
    "   - Percentage of Products Ordered: The percentage of products ordered compared to the total available products.\n",
    "   \n",
    "   Store these statistics in a tuple called `order_status`.\n",
    "\n",
    "8. Print the order statistics using the following format:\n",
    "   ```\n",
    "   Order Statistics:\n",
    "   Total Products Ordered: <total_products_ordered>\n",
    "   Percentage of Products Ordered: <percentage_ordered>% \n",
    "   ```\n",
    "\n",
    "9. Update the inventory by subtracting 1 from the quantity of each product. Modify the `inventory` dictionary accordingly.\n",
    "\n",
    "10. Print the updated inventory, displaying the quantity of each product on separate lines.\n",
    "\n",
    "Solve the exercise by implementing the steps using the Python concepts of lists, dictionaries, sets, and basic input/output operations. "
   ]
  },
  {
   "cell_type": "code",
   "execution_count": null,
   "metadata": {},
   "outputs": [
    {
     "name": "stdout",
     "output_type": "stream",
     "text": [
      "Enter the quantity of t-shirt: \n"
     ]
    }
   ],
   "source": [
    "# Define a list called `products` that contains the following items: \"t-shirt\", \"mug\", \"hat\", \"book\", \"keychain\".\n",
    "products= [\"t-shirt\", \"mug\", \"hat\", \"book\", \"keychain\"]\n",
    "inventory={}\n",
    "\n",
    "\n",
    "for product in products:\n",
    "    print(f\"Enter the quantity of {product}: \")\n",
    "    quantity = input()\n",
    "    \n",
    "    if quantity.isdigit():\n",
    "        inventory[product] = int(quantity)\n",
    "    else:\n",
    "        print(f\"Invalid input for {product}. Quantity set to 0.\")\n",
    "        inventory[product] = 0\n",
    "\n",
    "\n",
    "print(\"\\nInventory:\")\n",
    "print(inventory)\n",
    "\n",
    "\n",
    "# Create an empty set to store the customer's orders\n",
    "customer_orders = set()\n",
    "\n",
    "\n",
    "\n",
    "print(\"Please enter exactly three products you want to order (no duplicates).\")\n",
    "\n",
    "# Loop until exactly three valid products are added\n",
    "while len(customer_orders) < 3:\n",
    "    product = input(f\"Enter product {len(customer_orders) + 1}: \").strip().lower()  # Normalize input\n",
    "    if product in products:\n",
    "        if product not in customer_orders:\n",
    "            customer_orders.add(product)  # Add valid product to the set\n",
    "        else:\n",
    "            print(f\"'{product}' is already in your order. Choose a different product.\")\n",
    "    else:\n",
    "        print(f\"'{product}' is not a valid product. Please choose from the available products.\")\n",
    "\n",
    "# Display the final customer orders\n",
    "print(\"\\nCustomer Orders:\")\n",
    "print(customer_orders)\n",
    "\n",
    "# Calculate Total Products Ordered\n",
    "total_products_ordered = len(customer_orders)\n",
    "# Calculate Percentage of Products Ordered\n",
    "total_available_products = len(products)\n",
    "percentage_of_products_ordered = (total_products_ordered / total_available_products) * 100\n",
    "\n",
    "# Store statistics in a tuple\n",
    "order_status = (total_products_ordered, percentage_of_products_ordered)\n",
    "\n",
    "# Print the statistics\n",
    "print(\"Order Statistics:\")\n",
    "print(f\"Total Products Ordered: {order_status[0]}\")\n",
    "print(f\"Percentage of Products Ordered: {order_status[1]:.2f}%\")"
   ]
  },
  {
   "cell_type": "code",
   "execution_count": null,
   "metadata": {},
   "outputs": [],
   "source": []
  }
 ],
 "metadata": {
  "kernelspec": {
   "display_name": "Python 3",
   "language": "python",
   "name": "python3"
  },
  "language_info": {
   "codemirror_mode": {
    "name": "ipython",
    "version": 3
   },
   "file_extension": ".py",
   "mimetype": "text/x-python",
   "name": "python",
   "nbconvert_exporter": "python",
   "pygments_lexer": "ipython3",
   "version": "3.8.8"
  }
 },
 "nbformat": 4,
 "nbformat_minor": 4
}
